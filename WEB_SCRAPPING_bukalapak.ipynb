{
  "nbformat": 4,
  "nbformat_minor": 0,
  "metadata": {
    "colab": {
      "name": "WEB SCRAPPING-bukalapak.ipynb",
      "provenance": [],
      "authorship_tag": "ABX9TyMpGxKXypaI+zqN+oGkqIUk",
      "include_colab_link": true
    },
    "kernelspec": {
      "name": "python3",
      "display_name": "Python 3"
    },
    "language_info": {
      "name": "python"
    }
  },
  "cells": [
    {
      "cell_type": "markdown",
      "metadata": {
        "id": "view-in-github",
        "colab_type": "text"
      },
      "source": [
        "<a href=\"https://colab.research.google.com/github/zs-official/boTelegram/blob/main/WEB_SCRAPPING_bukalapak.ipynb\" target=\"_parent\"><img src=\"https://colab.research.google.com/assets/colab-badge.svg\" alt=\"Open In Colab\"/></a>"
      ]
    },
    {
      "cell_type": "code",
      "source": [
        "from urllib.request import Request, urlopen\n",
        "import pandas as pd\n",
        "import numpy as np\n",
        "import openpyxl\n",
        "import plotly.express as px\n",
        "import json\n",
        "import csv"
      ],
      "metadata": {
        "id": "8Qm1gHsc9TfZ"
      },
      "execution_count": 45,
      "outputs": []
    },
    {
      "cell_type": "code",
      "source": [
        "#for page in range(1,11):\n",
        "#for a in range(1,11):\n",
        "key = input('masukkan keyword :')\n",
        "write = csv.writer(open('{}.csv'.format(key), 'w', newline=''))\n",
        "header = ['Nama', 'Harga', 'Stok Tersedia', 'Terjual']\n",
        "write.writerow(header)\n",
        "count =0\n",
        "url = 'http://api.bukalapak.com/multistrategy-products?keywords='+key+'&limit=50&offset=0&facet=true&page=10&filter_non_popular_section=true&access_token=qL68fO5tDQIidZmDSMO5p4sRH7VMxuQR6ygvxFDWXwkMag'\n",
        "req = Request(url , headers={'User-Agent': 'Mozilla/5.0'})\n",
        "\n",
        "#\n",
        "webpage = urlopen(req).read()\n",
        "r = json.loads(webpage.decode('utf-8'))\n",
        "product = r['data']\n",
        "\n",
        "for p in product:\n",
        "      nama = p['name']\n",
        "      harga = p['price']\n",
        "      stok = p['stock']\n",
        "      stats = p['stats']['sold_count']\n",
        "      count+=1\n",
        "      print('No :',count, 'Nama :',nama, 'Harga :',harga, 'Stok Tersedia :', stok, 'Terjual :', stats)\n",
        "      write = csv.writer(open('{}.csv'.format(key), 'a',newline=''))\n",
        "      data = [nama, harga, stok, stats]\n",
        "      write.writerow(data)\n"
      ],
      "metadata": {
        "colab": {
          "base_uri": "https://localhost:8080/"
        },
        "id": "sf8mPMS9tpxJ",
        "outputId": "0702cff3-4beb-4974-cf41-f22a54e203be"
      },
      "execution_count": 48,
      "outputs": [
        {
          "output_type": "stream",
          "name": "stdout",
          "text": [
            "masukkan keyword :iphone\n",
            "No : 1 Nama : Case iPhone 11 Pro Max & 11 Pro & 11 - Original Rhinoshield Crashguard NX Ultra Tough & Ultra Drop Protection Casing Harga : 375000 Stok Tersedia : 29 Terjual : 0\n",
            "No : 2 Nama : Original Caudabe Veil XT Case iPhone 13 Pro Max 13 Mini 13 Pro Hard Casing Cover Harga : 299000 Stok Tersedia : 24 Terjual : 0\n",
            "No : 3 Nama : Rhinoshield Impact 3D Screen Protector iPhone 12 Pro Max Mini Guard Harga : 375000 Stok Tersedia : 26 Terjual : 0\n",
            "No : 4 Nama : USB Type C Fast Charge Syncwire 48W Kepala Charger PD 3.0 QC iPhone Samsung Android Harga : 230000 Stok Tersedia : 20 Terjual : 0\n",
            "No : 5 Nama : Original Caudabe Lucid Clear Case iPhone 13 Pro Max 13 Pro Mini Hard Casing Harga : 340000 Stok Tersedia : 71 Terjual : 0\n",
            "No : 6 Nama : iPhone XR 64B Lengkap mulus Harga : 7000000 Stok Tersedia : 3 Terjual : 4\n",
            "No : 7 Nama : PROMO Apple iPhone 13 Mini 128GB - Garansi Resmi Harga : 12999000 Stok Tersedia : 50 Terjual : 0\n",
            "No : 8 Nama : iPhone 11 128Gb Green Second Fullset Like New No Minus Harga : 7296000 Stok Tersedia : 20 Terjual : 64\n",
            "No : 9 Nama : iphone 7 plus 128 Harga : 4010000 Stok Tersedia : 9 Terjual : 7\n",
            "No : 10 Nama : iPhone 11 Pro Max 64Gb Second Fullset No Minus Harga : 9296000 Stok Tersedia : 184 Terjual : 199\n",
            "No : 11 Nama : iphone XR Harga : 5000000 Stok Tersedia : 6 Terjual : 3\n",
            "No : 12 Nama : Iphone 11 Pro Max 64Gb Second Mulus ex international fullset Harga : 9340000 Stok Tersedia : 189 Terjual : 2\n",
            "No : 13 Nama : IPHONE XS MAX 512 HDC Harga : 1490000 Stok Tersedia : 8 Terjual : 5\n",
            "No : 14 Nama : iphone 11 128 Harga : 8000000 Stok Tersedia : 10 Terjual : 2\n",
            "No : 15 Nama : Iphone 11 Pro Max 256gb silver second fullset mulus terawat Harga : 10298000 Stok Tersedia : 192 Terjual : 66\n",
            "No : 16 Nama : Original Syncwire Nylon Lightning Kabel Data iPhone MFI Cable Ori Harga : 175000 Stok Tersedia : 19 Terjual : 0\n",
            "No : 17 Nama : Original ESR Mimic Clear Case iPhone XS XS Max - Premium Casing Harga : 150000 Stok Tersedia : 11 Terjual : 0\n",
            "No : 18 Nama : Original Caudabe Veil XT Case iPhone 13 Pro Max 13 Mini 13 Pro Casing Harga : 299000 Stok Tersedia : 24 Terjual : 0\n",
            "No : 19 Nama : Original Caudabe Veil XT Thinnest Case iPhone 11 Pro Max 11 Pro 11 Harga : 275000 Stok Tersedia : 35 Terjual : 0\n",
            "No : 20 Nama : Case iPhone 12 Pro Max & 12 Pro & 12 & 12 Mini - Original Ringke Fusion X Rugged Casing Cover Softcase Apple Harga : 175000 Stok Tersedia : 105 Terjual : 18\n",
            "No : 21 Nama : IPHONE XR 64 GB NEW IBOX Harga : 8888000 Stok Tersedia : 11 Terjual : 1\n",
            "No : 22 Nama : iphone Xr 64gb Harga : 9600000 Stok Tersedia : 2 Terjual : 3\n",
            "No : 23 Nama : APPLE IPHONE XS MAX 256GB NEW ORIGNIAL GARANSI TOKO 1 TAHUN Harga : 7000000 Stok Tersedia : 9 Terjual : 1\n",
            "No : 24 Nama : Iphone 6s plus 128Gb Second Normal Harga : 2800000 Stok Tersedia : 97 Terjual : 3\n",
            "No : 25 Nama : Iphone 6s Harga : 3000000 Stok Tersedia : 3 Terjual : 5\n",
            "No : 26 Nama : iphone 5s Harga : 2000000 Stok Tersedia : 97 Terjual : 3\n",
            "No : 27 Nama : iPhone 11 128Gb red Second Fullset Like New No Minus Harga : 7196000 Stok Tersedia : 206 Terjual : 42\n",
            "No : 28 Nama : Iphone 6s Plus Harga : 2300000 Stok Tersedia : 1 Terjual : 15\n",
            "No : 29 Nama : Iphone 8 64gb Harga : 3500000 Stok Tersedia : 5 Terjual : 1\n",
            "No : 30 Nama : SECOND IPHONE 8 64GB-256GB MINUS - EX. INTER FULLSET Harga : 2512500 Stok Tersedia : 9 Terjual : 1\n",
            "No : 31 Nama : Case iPhone 11 Pro Max & iPhone 11 Pro & iPhone 11 - Original Caudabe Veil Xt Thinnest 0.35mm Casing in The World Harga : 275000 Stok Tersedia : 14 Terjual : 0\n",
            "No : 32 Nama : Anti Gores Ringke Dual Easy iPhone 11 Pro Max 11 Pro 11 - Tempered Harga : 145000 Stok Tersedia : 987 Terjual : 0\n",
            "No : 33 Nama : Original Mujjo Leather Wallet Case iPhone X Xs Xr Xs Max Harga : 699000 Stok Tersedia : 999998 Terjual : 0\n",
            "No : 34 Nama : Original Mujjo Premium Leather Case iPhone X Xs Xr Xs Max Harga : 675000 Stok Tersedia : 999998 Terjual : 0\n",
            "No : 35 Nama : Case iPhone 11 Pro Max & iPhone 11 Pro & iPhone 11 - Original Patchworks Lumina Clear Case Harga : 150000 Stok Tersedia : 5 Terjual : 2\n",
            "No : 36 Nama : Iphone 7 32gb Harga : 2500000 Stok Tersedia : 5 Terjual : 2\n",
            "No : 37 Nama : iphone X TEN 64GB 256GB Bekas Ori Second Seken Fulset Kondisi Perfect Normal Kemulusan 9 6 - 9 8 Plus E X 10 Inter Garansi 7 Hari Harga : 5150000 Stok Tersedia : 48 Terjual : 521\n",
            "No : 38 Nama : IPhone 8 Plus 256 GB - Fullset - Jakarta GOJEK - APPLE - 8Plus 256GB Harga : 4800000 Stok Tersedia : 45 Terjual : 36\n",
            "No : 39 Nama : iPhone 7 jetblack 64gb Harga : 1010000 Stok Tersedia : 7 Terjual : 2\n",
            "No : 40 Nama : Iphone Xr 128gb white second fullset ex inter Harga : 5298000 Stok Tersedia : 20 Terjual : 86\n",
            "No : 41 Nama : Iphone X Harga : 6000000 Stok Tersedia : 2 Terjual : 3\n",
            "No : 42 Nama : iPhone 8 64gb Grey Fulset Harga : 3100000 Stok Tersedia : 3 Terjual : 6\n",
            "No : 43 Nama : Iphone 11 Pro 256gb silver second original fullset no kendala Harga : 9098000 Stok Tersedia : 21 Terjual : 73\n",
            "No : 44 Nama : iphone 12 mini Harga : 9650000 Stok Tersedia : 7 Terjual : 3\n",
            "No : 45 Nama : iPhone 11 128 gb hdc second Harga : 1600000 Stok Tersedia : 49 Terjual : 1\n",
            "No : 46 Nama : Original Ringke Air S Case IPhone 11 Pro Max & IPhone 11 Pro & IPhone 11 - Stylish Slim Casing & Ultra Tough Cover Harga : 149000 Stok Tersedia : 27 Terjual : 2\n",
            "No : 47 Nama : Original Ringke Fusion X Case iPhone SE 2 2020 & SE2 & 8 & 7 - Ultra Tough Softcase Casing Soft Cover Harga : 120000 Stok Tersedia : 64 Terjual : 16\n",
            "No : 48 Nama : Original Ringke iPhone 12 Pro Max 12 mini Camera Styling Pelindung Kamera Metal Anti Gores Tempered Glass Harga : 99000 Stok Tersedia : 4 Terjual : 1\n",
            "No : 49 Nama : iPhone 7 - Original Healing Shield Curved Fit Screen Guard - Prime Harga : 275000 Stok Tersedia : 999999 Terjual : 0\n",
            "No : 50 Nama : Original Caudabe Sheath Case iPhone X Xs Xr Xs Max - Premium Casing Harga : 320000 Stok Tersedia : 77 Terjual : 0\n"
          ]
        }
      ]
    },
    {
      "cell_type": "code",
      "source": [
        "bukalapak = pd.read_csv('iphone.csv')"
      ],
      "metadata": {
        "id": "LqgT8a0pUhXS"
      },
      "execution_count": 57,
      "outputs": []
    },
    {
      "cell_type": "code",
      "source": [
        "bukalapak.head()"
      ],
      "metadata": {
        "colab": {
          "base_uri": "https://localhost:8080/",
          "height": 206
        },
        "id": "QqaIB7e2XEkc",
        "outputId": "afb5c130-35ab-43d7-aaab-1399c14e141d"
      },
      "execution_count": 58,
      "outputs": [
        {
          "output_type": "execute_result",
          "data": {
            "text/html": [
              "\n",
              "  <div id=\"df-0cfd3cb2-7276-4fc7-9fa3-d3f32fc13956\">\n",
              "    <div class=\"colab-df-container\">\n",
              "      <div>\n",
              "<style scoped>\n",
              "    .dataframe tbody tr th:only-of-type {\n",
              "        vertical-align: middle;\n",
              "    }\n",
              "\n",
              "    .dataframe tbody tr th {\n",
              "        vertical-align: top;\n",
              "    }\n",
              "\n",
              "    .dataframe thead th {\n",
              "        text-align: right;\n",
              "    }\n",
              "</style>\n",
              "<table border=\"1\" class=\"dataframe\">\n",
              "  <thead>\n",
              "    <tr style=\"text-align: right;\">\n",
              "      <th></th>\n",
              "      <th>Nama</th>\n",
              "      <th>Harga</th>\n",
              "      <th>Stok Tersedia</th>\n",
              "      <th>Terjual</th>\n",
              "    </tr>\n",
              "  </thead>\n",
              "  <tbody>\n",
              "    <tr>\n",
              "      <th>0</th>\n",
              "      <td>e X Xs Xr Xs Max - Premium Casing</td>\n",
              "      <td>320000</td>\n",
              "      <td>77</td>\n",
              "      <td>0</td>\n",
              "    </tr>\n",
              "    <tr>\n",
              "      <th>1</th>\n",
              "      <td>Case iPhone 11 Pro Max &amp; 11 Pro &amp; 11 - Origina...</td>\n",
              "      <td>375000</td>\n",
              "      <td>29</td>\n",
              "      <td>0</td>\n",
              "    </tr>\n",
              "    <tr>\n",
              "      <th>2</th>\n",
              "      <td>Original Caudabe Veil XT Case iPhone 13 Pro Ma...</td>\n",
              "      <td>299000</td>\n",
              "      <td>24</td>\n",
              "      <td>0</td>\n",
              "    </tr>\n",
              "    <tr>\n",
              "      <th>3</th>\n",
              "      <td>Rhinoshield Impact 3D Screen Protector iPhone ...</td>\n",
              "      <td>375000</td>\n",
              "      <td>26</td>\n",
              "      <td>0</td>\n",
              "    </tr>\n",
              "    <tr>\n",
              "      <th>4</th>\n",
              "      <td>USB Type C Fast Charge Syncwire 48W Kepala Cha...</td>\n",
              "      <td>230000</td>\n",
              "      <td>20</td>\n",
              "      <td>0</td>\n",
              "    </tr>\n",
              "  </tbody>\n",
              "</table>\n",
              "</div>\n",
              "      <button class=\"colab-df-convert\" onclick=\"convertToInteractive('df-0cfd3cb2-7276-4fc7-9fa3-d3f32fc13956')\"\n",
              "              title=\"Convert this dataframe to an interactive table.\"\n",
              "              style=\"display:none;\">\n",
              "        \n",
              "  <svg xmlns=\"http://www.w3.org/2000/svg\" height=\"24px\"viewBox=\"0 0 24 24\"\n",
              "       width=\"24px\">\n",
              "    <path d=\"M0 0h24v24H0V0z\" fill=\"none\"/>\n",
              "    <path d=\"M18.56 5.44l.94 2.06.94-2.06 2.06-.94-2.06-.94-.94-2.06-.94 2.06-2.06.94zm-11 1L8.5 8.5l.94-2.06 2.06-.94-2.06-.94L8.5 2.5l-.94 2.06-2.06.94zm10 10l.94 2.06.94-2.06 2.06-.94-2.06-.94-.94-2.06-.94 2.06-2.06.94z\"/><path d=\"M17.41 7.96l-1.37-1.37c-.4-.4-.92-.59-1.43-.59-.52 0-1.04.2-1.43.59L10.3 9.45l-7.72 7.72c-.78.78-.78 2.05 0 2.83L4 21.41c.39.39.9.59 1.41.59.51 0 1.02-.2 1.41-.59l7.78-7.78 2.81-2.81c.8-.78.8-2.07 0-2.86zM5.41 20L4 18.59l7.72-7.72 1.47 1.35L5.41 20z\"/>\n",
              "  </svg>\n",
              "      </button>\n",
              "      \n",
              "  <style>\n",
              "    .colab-df-container {\n",
              "      display:flex;\n",
              "      flex-wrap:wrap;\n",
              "      gap: 12px;\n",
              "    }\n",
              "\n",
              "    .colab-df-convert {\n",
              "      background-color: #E8F0FE;\n",
              "      border: none;\n",
              "      border-radius: 50%;\n",
              "      cursor: pointer;\n",
              "      display: none;\n",
              "      fill: #1967D2;\n",
              "      height: 32px;\n",
              "      padding: 0 0 0 0;\n",
              "      width: 32px;\n",
              "    }\n",
              "\n",
              "    .colab-df-convert:hover {\n",
              "      background-color: #E2EBFA;\n",
              "      box-shadow: 0px 1px 2px rgba(60, 64, 67, 0.3), 0px 1px 3px 1px rgba(60, 64, 67, 0.15);\n",
              "      fill: #174EA6;\n",
              "    }\n",
              "\n",
              "    [theme=dark] .colab-df-convert {\n",
              "      background-color: #3B4455;\n",
              "      fill: #D2E3FC;\n",
              "    }\n",
              "\n",
              "    [theme=dark] .colab-df-convert:hover {\n",
              "      background-color: #434B5C;\n",
              "      box-shadow: 0px 1px 3px 1px rgba(0, 0, 0, 0.15);\n",
              "      filter: drop-shadow(0px 1px 2px rgba(0, 0, 0, 0.3));\n",
              "      fill: #FFFFFF;\n",
              "    }\n",
              "  </style>\n",
              "\n",
              "      <script>\n",
              "        const buttonEl =\n",
              "          document.querySelector('#df-0cfd3cb2-7276-4fc7-9fa3-d3f32fc13956 button.colab-df-convert');\n",
              "        buttonEl.style.display =\n",
              "          google.colab.kernel.accessAllowed ? 'block' : 'none';\n",
              "\n",
              "        async function convertToInteractive(key) {\n",
              "          const element = document.querySelector('#df-0cfd3cb2-7276-4fc7-9fa3-d3f32fc13956');\n",
              "          const dataTable =\n",
              "            await google.colab.kernel.invokeFunction('convertToInteractive',\n",
              "                                                     [key], {});\n",
              "          if (!dataTable) return;\n",
              "\n",
              "          const docLinkHtml = 'Like what you see? Visit the ' +\n",
              "            '<a target=\"_blank\" href=https://colab.research.google.com/notebooks/data_table.ipynb>data table notebook</a>'\n",
              "            + ' to learn more about interactive tables.';\n",
              "          element.innerHTML = '';\n",
              "          dataTable['output_type'] = 'display_data';\n",
              "          await google.colab.output.renderOutput(dataTable, element);\n",
              "          const docLink = document.createElement('div');\n",
              "          docLink.innerHTML = docLinkHtml;\n",
              "          element.appendChild(docLink);\n",
              "        }\n",
              "      </script>\n",
              "    </div>\n",
              "  </div>\n",
              "  "
            ],
            "text/plain": [
              "                                                Nama  ...  Terjual\n",
              "0                  e X Xs Xr Xs Max - Premium Casing  ...        0\n",
              "1  Case iPhone 11 Pro Max & 11 Pro & 11 - Origina...  ...        0\n",
              "2  Original Caudabe Veil XT Case iPhone 13 Pro Ma...  ...        0\n",
              "3  Rhinoshield Impact 3D Screen Protector iPhone ...  ...        0\n",
              "4  USB Type C Fast Charge Syncwire 48W Kepala Cha...  ...        0\n",
              "\n",
              "[5 rows x 4 columns]"
            ]
          },
          "metadata": {},
          "execution_count": 58
        }
      ]
    },
    {
      "cell_type": "code",
      "source": [
        "bukalapak['Terjual'].value_counts().head(40)"
      ],
      "metadata": {
        "colab": {
          "base_uri": "https://localhost:8080/"
        },
        "id": "5xKvNEInXOlo",
        "outputId": "d2f9a7b6-08da-4e84-e2ee-be24c5837335"
      },
      "execution_count": 69,
      "outputs": [
        {
          "output_type": "execute_result",
          "data": {
            "text/plain": [
              "0      16\n",
              "3       6\n",
              "2       6\n",
              "1       6\n",
              "5       2\n",
              "199     1\n",
              "7       1\n",
              "66      1\n",
              "18      1\n",
              "4       1\n",
              "42      1\n",
              "15      1\n",
              "521     1\n",
              "36      1\n",
              "86      1\n",
              "6       1\n",
              "73      1\n",
              "16      1\n",
              "64      1\n",
              "Name: Terjual, dtype: int64"
            ]
          },
          "metadata": {},
          "execution_count": 69
        }
      ]
    }
  ]
}